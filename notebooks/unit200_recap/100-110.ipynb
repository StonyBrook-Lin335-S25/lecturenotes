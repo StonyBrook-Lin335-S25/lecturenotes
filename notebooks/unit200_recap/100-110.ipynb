{
  "cells": [
    {
      "cell_type": "markdown",
      "metadata": {
        "id": "3rFpiCERoA3D"
      },
      "source": [
        "# Python recap (Units 100-110)\n",
        "\n",
        "Python is a very high-level programming language, which is why some call it a *scripting language* in contrast to \"proper\", heavy-weight programming languages like Java or C.\n",
        "Python is not as fast as these languages, but it is just as powerful while making it much easier to write code in.\n",
        "When **fast coding** is more important than **fast code**, Python is a good choice.\n",
        "That's generally the case for data analysis, and increasingly so in computational linuistics, too.\n",
        "This makes Python the ideal language for this course.\n",
        "\n",
        "The rest of this notebook gives a quick summary of some Python basics (corresponding to [units 100-110 of LIN 120 Language and Technology](https://github.com/CompLab-StonyBrook/lin120_public/tree/master/notebooks)).\n",
        "Whereas the LIN 120 notebooks have detailed explanations in plain English, this summary is much more concise.\n",
        "I assume throughout this recap that you have enough of a programming background to quickly pick up the core ideas from a few code snippets."
      ]
    },
    {
      "cell_type": "markdown",
      "metadata": {
        "id": "F0rffgAFoA3G"
      },
      "source": [
        "## `print`, `input`, and variables"
      ]
    },
    {
      "cell_type": "code",
      "execution_count": null,
      "metadata": {
        "collapsed": true,
        "id": "Ap8laqCsoA3H"
      },
      "outputs": [],
      "source": [
        "print(\"Use print to show messages to the user\")"
      ]
    },
    {
      "cell_type": "code",
      "execution_count": null,
      "metadata": {
        "collapsed": true,
        "id": "d-oJ9PyjoA3I"
      },
      "outputs": [],
      "source": [
        "print('Strings can also occur between single quotes')"
      ]
    },
    {
      "cell_type": "code",
      "execution_count": null,
      "metadata": {
        "collapsed": true,
        "id": "Cb2cxpk_oA3I"
      },
      "outputs": [],
      "source": [
        "print('But that\\'s not a good idea for English because apostrophes have to be escaped')"
      ]
    },
    {
      "cell_type": "code",
      "execution_count": null,
      "metadata": {
        "collapsed": true,
        "id": "XqjVjTQ9oA3I"
      },
      "outputs": [],
      "source": [
        "print(\"That's much better!\")\n",
        "print(\"As a convention, we'll always use double quotes for strings in this course.\")"
      ]
    },
    {
      "cell_type": "code",
      "execution_count": null,
      "metadata": {
        "id": "qd-v3NB5oA3J"
      },
      "outputs": [],
      "source": [
        "print(\"Let's get some input from the user\")\n",
        "# ask user for input and store it in variable user_input\n",
        "# (note how comments start with #)\n",
        "print(\"Dear user, please say something:\")\n",
        "user_input = input()\n",
        "\n",
        "print(\"Here's what you said:\", user_input)"
      ]
    },
    {
      "cell_type": "code",
      "source": [
        "# input() can also take a string as an argument;\n",
        "# note the difference in output compared to how we did it with print() above\n",
        "input(\"Dear user, please say something:\")"
      ],
      "metadata": {
        "id": "O6Co78i7o6Ca"
      },
      "execution_count": null,
      "outputs": []
    },
    {
      "cell_type": "code",
      "execution_count": null,
      "metadata": {
        "id": "mhzhwe96oA3J"
      },
      "outputs": [],
      "source": [
        "# we can store the user input in a variable, e.g. n\n",
        "print(\"Enter a number!\")\n",
        "n = input()\n",
        "print(\"I believe\", n, \"is the number you entered.\")"
      ]
    },
    {
      "cell_type": "code",
      "source": [
        "# EXERCISE\n",
        "# reimplement the cell above but now use input() instead of the first instance of print()"
      ],
      "metadata": {
        "id": "b7I_nmjSpkQI"
      },
      "execution_count": null,
      "outputs": []
    },
    {
      "cell_type": "markdown",
      "metadata": {
        "id": "TJzgk3vboA3J"
      },
      "source": [
        "Notice how Python automatically inserts a space between the arguments of `print`."
      ]
    },
    {
      "cell_type": "code",
      "source": [
        "print(\"Enter a number!\")\n",
        "n = input()\n",
        "print(\"I believe\", n, \"is the number you entered. Yes, indeed, you have entered\", n, \"for sure!\")"
      ],
      "metadata": {
        "id": "NHXZbzdXp6Dc"
      },
      "execution_count": null,
      "outputs": []
    },
    {
      "cell_type": "markdown",
      "metadata": {
        "id": "BixfZpXKoA3J"
      },
      "source": [
        "The `print` command above is a little clunky.\n",
        "We can do better with **f-strings** (which is short for **format-strings**).\n",
        "This is also known as string interpolation in other programming languages.\n",
        "In string interpolation, a variable `var` can be included in a string as `{var}`."
      ]
    },
    {
      "cell_type": "code",
      "execution_count": null,
      "metadata": {
        "id": "wAFjmaYEoA3J"
      },
      "outputs": [],
      "source": [
        "print(\"Enter a number!\")\n",
        "n = input()\n",
        "print(f\"I believe {n} is the number you entered. Yes, indeed, you have entered {n} for sure!\")\n",
        "print(f\"Without curly braces we only get n, not {n}.\")"
      ]
    },
    {
      "cell_type": "markdown",
      "metadata": {
        "id": "bgLKjfvooA3J"
      },
      "source": [
        "While f-strings are powerful, `print` with multiple arguments still has its uses."
      ]
    },
    {
      "cell_type": "code",
      "execution_count": null,
      "metadata": {
        "id": "LS9_96sqoA3K"
      },
      "outputs": [],
      "source": [
        "# a creative way of printing banana;\n",
        "# `sep` is inserted between all arguments of print;\n",
        "# if sep isn't specified, then sep=\" \" (i.e. a space)\n",
        "print(\"ba\", \"a\", \"a\", sep=\"n\")"
      ]
    },
    {
      "cell_type": "code",
      "execution_count": null,
      "metadata": {
        "id": "2-e2NdByoA3K"
      },
      "outputs": [],
      "source": [
        "# an even more creative way of printing banana;\n",
        "# `end` is appended to the last argument\n",
        "print(\"b\", \"n\", \"n\", sep=\"a\", end=\"a\")"
      ]
    },
    {
      "cell_type": "code",
      "source": [
        "# am even more creative way that uses the empty string \"\"\n",
        "# so that we do not need to specify `end`\n",
        "print(\"b\", \"n\", \"n\", \"\", sep=\"a\")"
      ],
      "metadata": {
        "id": "MtWtD12drahc"
      },
      "execution_count": null,
      "outputs": []
    },
    {
      "cell_type": "code",
      "execution_count": null,
      "metadata": {
        "id": "FgxKndQIoA3K"
      },
      "outputs": [],
      "source": [
        "# print all arguments with the empty string as the separator\n",
        "print(\"d\", \"o\", \"w\", \"n\", sep=\"\")"
      ]
    },
    {
      "cell_type": "code",
      "execution_count": null,
      "metadata": {
        "id": "bxe55X49oA3K"
      },
      "outputs": [],
      "source": [
        "# print all arguments with a newline character as the separator\n",
        "print(\"d\", \"o\", \"w\", \"n\", sep=\"\\n\")"
      ]
    },
    {
      "cell_type": "code",
      "source": [
        "# EXERCISEE\n",
        "# What is the shortest possible print statement for printing the following string?\n",
        "# abcdefghXabcdefghYabcdefghZabcdefghabcdefgh\n",
        "print(\"\", \"X\", \"Y\", \"Z\", \"\", \"\", sep=\"abcdefgh\")"
      ],
      "metadata": {
        "id": "KM2FEqAyqkBS"
      },
      "execution_count": null,
      "outputs": []
    },
    {
      "cell_type": "markdown",
      "source": [
        "Don't forget that variables aren't limited to strings, they can refer to pretty much anything.\n",
        "Effectively, a variable is a name you attach to something that you want to refer back to later on.\n",
        "Writing `var = foo` means that from here on we can refer to `foo` as `var`.\n",
        "If `foo` itself is a variable, then `var = foo` means that the thing `foo` currently refers to can also be referred to as `var`."
      ],
      "metadata": {
        "id": "YSQ2F8dAtPFI"
      }
    },
    {
      "cell_type": "code",
      "source": [
        "var = 5\n",
        "newvar = var + 8\n",
        "print(var, newvar)"
      ],
      "metadata": {
        "id": "3kVspsvjtOYq"
      },
      "execution_count": null,
      "outputs": []
    },
    {
      "cell_type": "code",
      "source": [
        "# variables can be redefined\n",
        "var = 5\n",
        "newvar = var + 8\n",
        "var = 0\n",
        "print(var, newvar)"
      ],
      "metadata": {
        "id": "xU2-SuYVuAAG"
      },
      "execution_count": null,
      "outputs": []
    },
    {
      "cell_type": "code",
      "source": [
        "var = 5\n",
        "newvar = var + 8\n",
        "var = newvar\n",
        "print(var, newvar)"
      ],
      "metadata": {
        "id": "IIFWecR_uNOr"
      },
      "execution_count": null,
      "outputs": []
    },
    {
      "cell_type": "code",
      "source": [
        "# do you remember what happens if we have two variables and and b with a = b\n",
        "# and then change a?\n",
        "var = 5\n",
        "newvar = var\n",
        "var = 10\n",
        "print(var, newvar)"
      ],
      "metadata": {
        "id": "-3ax0nknuflf"
      },
      "execution_count": null,
      "outputs": []
    },
    {
      "cell_type": "code",
      "source": [
        "# what if we have two variables a and b with a = b\n",
        "# and then change b?\n",
        "var = 5\n",
        "newvar = var\n",
        "newvar = 10\n",
        "print(var, newvar)"
      ],
      "metadata": {
        "id": "sRpr0hj8um-1"
      },
      "execution_count": null,
      "outputs": []
    },
    {
      "cell_type": "markdown",
      "metadata": {
        "id": "jDvkU4-3oA3K"
      },
      "source": [
        "### Summary\n",
        "\n",
        "```python\n",
        "print(arg_1, arg_2, ..., arg_n, sep, end)\n",
        "print(f\"some string containing {some_variable}\")\n",
        "input()\n",
        "input(\"with a message right before the input field\")\n",
        "```\n",
        "\n",
        "### Common mistakes\n",
        "\n",
        "- Don't confuse `print` (showing a message on the screen) and `input` (getting user input).\n",
        "  Yes, `input` can be used to print a message on the same line, but that doesn't make `input` the same as `print`.\n",
        "- Don't use `==` when defining variables.\n",
        "  Only a single `=` is used for defining variables.\n",
        "- Don't forget to add the prefix `f` when using variables inside a string."
      ]
    },
    {
      "cell_type": "markdown",
      "metadata": {
        "id": "K0k221bxoA3K"
      },
      "source": [
        "## `if`, `else`, and `elif`\n",
        "\n",
        "The `if`-`else` construct in Python behaves just like in pretty much every other language.\n",
        "We give `if` a condition, and if that condition is met we execute the indented code below `if`.\n",
        "Otherwise, we move on to the next piece of the `if` block, assuming there is one."
      ]
    },
    {
      "cell_type": "code",
      "execution_count": null,
      "metadata": {
        "id": "iV8J2VsUoA3K"
      },
      "outputs": [],
      "source": [
        "# two `if` code blocks without any `else`\n",
        "n = 5\n",
        "\n",
        "if n > 5:\n",
        "    print(\"This won't be printed because n is not strictly greater than 5.\")\n",
        "\n",
        "if n >= 5:\n",
        "    print(\"This will be printed because n is greater than or equal to 5.\")"
      ]
    },
    {
      "cell_type": "code",
      "execution_count": null,
      "metadata": {
        "collapsed": true,
        "id": "nqZRVr7FoA3K"
      },
      "outputs": [],
      "source": [
        "# indentation MATTERS!\n",
        "n = 5\n",
        "\n",
        "if n > 5:\n",
        "    print(\"This won't be printed because n is not strictly greater than 5.\")\n",
        "print(\"This will be printed because it is not indented.\")\n",
        "print(\"Whitespace indicates scope, so indentation matters a lot in Python!\")"
      ]
    },
    {
      "cell_type": "code",
      "execution_count": null,
      "metadata": {
        "collapsed": true,
        "id": "gyTDHLKkoA3L"
      },
      "outputs": [],
      "source": [
        "# a single `if` code block with an `else`\n",
        "n = 5\n",
        "\n",
        "if n > 5:\n",
        "    print(\"This won't be printed because n is not strictly greater than 5.\")\n",
        "else:\n",
        "    print(\"This **will** be printed because n is not strictly greater than 5.\")"
      ]
    },
    {
      "cell_type": "code",
      "execution_count": null,
      "metadata": {
        "collapsed": true,
        "id": "R-29G4t_oA3L"
      },
      "outputs": [],
      "source": [
        "# code blocks can be nested\n",
        "n = 5\n",
        "\n",
        "if n > 5:\n",
        "    print(\"This won't be printed because n is not strictly greater than 5.\")\n",
        "else:\n",
        "    if n < 5:\n",
        "        print(\"This won't be printed because n is not stricly less than 5.\")\n",
        "    else:\n",
        "        print(\"This **will** be printed because n fails both conditions.\")"
      ]
    },
    {
      "cell_type": "markdown",
      "metadata": {
        "id": "5Ch-ebkqoA3L"
      },
      "source": [
        "Nested conditions are hard to read, in particular because of Python's mandatory indenting.\n",
        "For complex conditions, use `elif` (short for *else if*) to keep hierarchies flat."
      ]
    },
    {
      "cell_type": "code",
      "execution_count": null,
      "metadata": {
        "collapsed": true,
        "id": "YGjY79VQoA3L"
      },
      "outputs": [],
      "source": [
        "n = 5\n",
        "\n",
        "if n > 5:\n",
        "    print(\"This won't be printed because n is not strictly greater than 5.\")\n",
        "elif n < 5:\n",
        "    print(\"This won't be printed because n is not stricly less than 5.\")\n",
        "else:\n",
        "    print(\"This **will** be printed because n fails all the conditions above.\")"
      ]
    },
    {
      "cell_type": "markdown",
      "metadata": {
        "id": "6fcjuVXaoA3L"
      },
      "source": [
        "Conditions are evaluated from top to bottom, so if a higher one subsumes a lower one, the lower one will never be checked."
      ]
    },
    {
      "cell_type": "code",
      "execution_count": null,
      "metadata": {
        "collapsed": true,
        "id": "aroEAmbuoA3L"
      },
      "outputs": [],
      "source": [
        "n = 5\n",
        "\n",
        "if n <= 5:\n",
        "    print(\"This message will be printed.\")\n",
        "elif n == 5:\n",
        "    print(\"Nothing in this block will ever be executed.\")\n",
        "    print(\"That's because whenever n == 5 holds, the higher-ranked n <= 5 holds, too.\")"
      ]
    },
    {
      "cell_type": "markdown",
      "metadata": {
        "id": "6sMu0fMFoA3L"
      },
      "source": [
        "Particularly simple uses of `if` can be put on a single line using a *ternary if*.\n",
        "This can make code more elegant, but if you're not perfectly sure how to use ternary `if`, just avoid it.\n",
        "It's better to sacrifice some elegance than write code that you do not fully understand."
      ]
    },
    {
      "cell_type": "code",
      "execution_count": null,
      "metadata": {
        "id": "a2ezqmldoA3L"
      },
      "outputs": [],
      "source": [
        "n = 5\n",
        "\n",
        "print(\"This message will be printed.\") if n == 5 else print(\"We always need an else part for single-line if.\")\n",
        "\n",
        "print(\"This message won't be printed.\") if n < 5 else print(\"But this message will be.\")\n",
        "\n",
        "# an even shorter version with print\n",
        "print(\"n is 5.\" if n == 5 else \"n is not 5.\")\n",
        "\n",
        "# ternary if for defining a variable\n",
        "b = 9 if n > 5 else 3\n",
        "print(b)\n",
        "\n",
        "# the minimally different line below would not work\n",
        "# b = 9 if n > 5 else b = 3"
      ]
    },
    {
      "cell_type": "markdown",
      "metadata": {
        "id": "KZbO05GZoA3L"
      },
      "source": [
        "### Summary\n",
        "\n",
        "Normal `if`:\n",
        "\n",
        "```python\n",
        "if condition_1:\n",
        "    # any code you want, but properly indented\n",
        "elif condition_2:\n",
        "    # some other code\n",
        "    # only executed if condition_2 is met and condition_1 isn't\n",
        "elif condition_3:\n",
        "    # some other code\n",
        "    # only executed if condition_3 is met and the previous ones aren't\n",
        "else:\n",
        "    # what to do when none of the conditions are met;\n",
        "    # if this is missing, no code is executed\n",
        "```\n",
        "\n",
        "Ternary `if`:\n",
        "```python\n",
        "code_if_true if some_condition else code_if_false\n",
        "```\n",
        "\n",
        "Ternary if is often used to define variables\n",
        "\n",
        "```python\n",
        "var = ternary_if_code\n",
        "```"
      ]
    },
    {
      "cell_type": "markdown",
      "metadata": {
        "id": "9jemGxjcoA3L"
      },
      "source": [
        "### Common mistakes\n",
        "\n",
        "- Don't forget the colon `:` after the condition.\n",
        "- Never forget about proper indentation.\n",
        "- The order of conditions matters.\n",
        "  More specific conditions should be tested before more general ones.\n",
        "- Equality is tested with `==` (two equal signs), not `=` (one equal sign).\n",
        "  The latter is only for defining variables."
      ]
    },
    {
      "cell_type": "markdown",
      "metadata": {
        "id": "7MXirRAyoA3L"
      },
      "source": [
        "## Conditions\n",
        "\n",
        "Anything can be used as a condition as long as it evaluates to `True` or `False`, which are called **Booleans**.\n",
        "Conditions often involve one of the following operators:\n",
        "\n",
        "- `==` (equals),\n",
        "- `!=` (does not equal),\n",
        "- `<` (strictly less than),\n",
        "- `>` (strictly greater than),\n",
        "- `<=` (less than or equals),\n",
        "- `>=` (greater than or equals)."
      ]
    },
    {
      "cell_type": "code",
      "execution_count": null,
      "metadata": {
        "collapsed": true,
        "id": "yUhVMMJSoA3L"
      },
      "outputs": [],
      "source": [
        "if False:\n",
        "    print(\"This message is never printed because False is never true.\")\n",
        "elif True:\n",
        "    print(\"This message is always printed because True can never be false.\")\n",
        "else:\n",
        "    print(\"This message is never printed because `elif True` preempts it.\")"
      ]
    },
    {
      "cell_type": "code",
      "execution_count": null,
      "metadata": {
        "collapsed": true,
        "id": "I-mctKcDoA3L"
      },
      "outputs": [],
      "source": [
        "n = 5\n",
        "\n",
        "if n == 5:\n",
        "    print(\"Yes, n equals 5.\")\n",
        "if n != 5:\n",
        "    print(\"This doesn't get printed; n != 5 is false.\")\n",
        "if n < 5:\n",
        "    print(\"This doesn't get printed; n < 5 is false.\")\n",
        "if n > 5:\n",
        "    print(\"This doesn't get printed; n > 5 is false.\")\n",
        "if n <= 5:\n",
        "    print(\"Yes, n is less than or equal to 5.\")\n",
        "if n >= 5:\n",
        "    print(\"Yes, n is greater than or equal to 5.\")"
      ]
    },
    {
      "cell_type": "markdown",
      "metadata": {
        "id": "yRmbqN-GoA3M"
      },
      "source": [
        "Conditions can be negated with `not`, and they can be combined with `and` and `or`.\n",
        "Use brackets to indicate in what order `not`, `and`, and `or` have to be evaluated."
      ]
    },
    {
      "cell_type": "code",
      "execution_count": null,
      "metadata": {
        "id": "qJzbHbbToA3M"
      },
      "outputs": [],
      "source": [
        "n = 5\n",
        "\n",
        "if n > 1 or (n < 10 and not n > 4):\n",
        "    print(\"This condition is satisfied (because n > 1 holds).\")\n",
        "\n",
        "if (n > 1 or n < 10) and not n > 4:\n",
        "    print(\"not gonna happen\")\n",
        "else:\n",
        "    print(\"The condition wasn't satisfied (because not n > 4 is false)\")\n",
        "\n",
        "if n > 1 or n < 10:\n",
        "    print(\"An or-condition holds even if both requirements are met.\")\n",
        "\n",
        "if n > 10 and n < 10:\n",
        "    print(\"not gonna happen\")\n",
        "else:\n",
        "    print(\"The condition can never be satisfied. It's equivalent to `if False`.\")"
      ]
    },
    {
      "cell_type": "markdown",
      "metadata": {
        "id": "jEFdSOvKoA3M"
      },
      "source": [
        "### Common mistakes\n",
        "\n",
        "- Only conditions can be modified by `and`, `or`, and `not`.\n",
        "  Something like `if n == 3 or 5` does not work (the code will run, but it won't do what you want: `5` always evaluates to `True`, so the condition is met irrespective of the value of `n`).\n",
        "- Don't use `not ==`. Use `!=` instead."
      ]
    },
    {
      "cell_type": "markdown",
      "metadata": {
        "id": "jirCCnvVoA3M"
      },
      "source": [
        "## `while`-loops\n",
        "\n",
        "As in other programming languages, `while`-loops are like an `if` that keeps repeating until the condition is no longer met."
      ]
    },
    {
      "cell_type": "code",
      "execution_count": null,
      "metadata": {
        "collapsed": true,
        "id": "fllKMnQWoA3M"
      },
      "outputs": [],
      "source": [
        "n = 0\n",
        "\n",
        "while n < 5:\n",
        "    print(f\"n is currently {n}\")\n",
        "    n = n + 1\n",
        "\n",
        "print(f\"n has reached value {n}. We have left the loop.\")"
      ]
    },
    {
      "cell_type": "markdown",
      "metadata": {
        "id": "hIVnYmtCoA3M"
      },
      "source": [
        "We can use `break` to force Python to leave the loop right away.\n",
        "This sometimes allows for more elegant code.\n",
        "Compare the two below."
      ]
    },
    {
      "cell_type": "code",
      "execution_count": null,
      "metadata": {
        "id": "oExNaZEsoA3N"
      },
      "outputs": [],
      "source": [
        "reply = \"\"   # hmm, why is this needed??? can't tell at this point\n",
        "\n",
        "while reply != \"No\":\n",
        "    print(\"What a nice loop.\")\n",
        "    print(\"Continue looping?\")\n",
        "    reply = input()  # oh, so now we finally know what reply is used for\n",
        "\n",
        "print(\"We've left the loop!\")"
      ]
    },
    {
      "cell_type": "code",
      "execution_count": null,
      "metadata": {
        "id": "QXvWFnRToA3N"
      },
      "outputs": [],
      "source": [
        "while True:\n",
        "    # this would loop forever because `True` can never be false\n",
        "    print(\"What a nice loop.\")\n",
        "    print(\"Continue looping?\")\n",
        "    reply = input()\n",
        "    if reply == \"No\":\n",
        "        break  # we're exiting the while loop\n",
        "\n",
        "print(\"We've left the loop!\")"
      ]
    },
    {
      "cell_type": "markdown",
      "metadata": {
        "id": "LLepwUJioA3N"
      },
      "source": [
        "### Summary\n",
        "\n",
        "```python\n",
        "while some_condition:\n",
        "    some_code  # can contain one or more breaks to exit the loop\n",
        "```\n",
        "\n",
        "Instead of the `while`-loop pattern above, we will often use `while True` in combination with `break`.\n",
        "\n",
        "```python\n",
        "while True:\n",
        "  some_code\n",
        "  if some_condition:\n",
        "    break\n",
        "```"
      ]
    },
    {
      "cell_type": "markdown",
      "metadata": {
        "id": "b0mImeTgoA3N"
      },
      "source": [
        "### Common mistakes\n",
        "\n",
        "- Just as with `if`, don't forget the colon `:` at the end of the condition.\n",
        "- Keep in mind that `if` and `while` serve different purposes.\n",
        "  Use `if` for code that should be run once when a condition is satisfied.\n",
        "  Use `while` for code that should be run over and over again until a condition is no longer met."
      ]
    },
    {
      "cell_type": "markdown",
      "metadata": {
        "id": "6yHHZ36XoA3N"
      },
      "source": [
        "## Lists\n",
        "\n",
        "Lists are one of the simplest **data structures** in Python."
      ]
    },
    {
      "cell_type": "code",
      "execution_count": null,
      "metadata": {
        "collapsed": true,
        "id": "XblT0dYjoA3N"
      },
      "outputs": [],
      "source": [
        "number_list = [0, 1, 2, 3, 4]"
      ]
    },
    {
      "cell_type": "markdown",
      "metadata": {
        "id": "uKq--IkfoA3N"
      },
      "source": [
        "Lists can contain even very complex objects, such as long strings, variables or other lists."
      ]
    },
    {
      "cell_type": "code",
      "execution_count": null,
      "metadata": {
        "collapsed": true,
        "id": "cyDmZkz1oA3N"
      },
      "outputs": [],
      "source": [
        "number_list = [0, 1, 2, 3, 4]\n",
        "n = 5\n",
        "another_list = [0, \"some string\", n, \"another string\", number_list, [0, [5, 10]], \"the last item\"]"
      ]
    },
    {
      "cell_type": "markdown",
      "metadata": {
        "id": "SteDjDgaoA3N"
      },
      "source": [
        "Items can be added to lists with the `list.append` function.\n",
        "Whether an item is in a list can be tested with the `in` and `not in` operators:"
      ]
    },
    {
      "cell_type": "code",
      "execution_count": null,
      "metadata": {
        "collapsed": true,
        "id": "PzOR-ZoaoA3O"
      },
      "outputs": [],
      "source": [
        "# we start an empty list\n",
        "memory = []\n",
        "\n",
        "while \"Star Trek\" not in memory:\n",
        "    print(\"What's the best Sci-Fi franchise?\")\n",
        "    list.append(memory, input())"
      ]
    },
    {
      "cell_type": "markdown",
      "metadata": {
        "id": "rZbx4ishoA3O"
      },
      "source": [
        "The `list.append` function is a specific instance of a range of functions that follow the template\n",
        "```python\n",
        "type_of_object.do_something(object, arg_1, ..., arg_n)\n",
        "```\n",
        "For all these functions, one can instead use the shorthand `object.do_something(arg_1, ..., arg_n)`.\n",
        "This is known as a **method** (see the section on functions for details).\n",
        "\n",
        "We can use `in` and `not in` to test whether a list contains a given item."
      ]
    },
    {
      "cell_type": "code",
      "execution_count": null,
      "metadata": {
        "collapsed": true,
        "id": "zZXdugDdoA3O"
      },
      "outputs": [],
      "source": [
        "# we start an empty list\n",
        "memory = []\n",
        "\n",
        "while \"Star Trek\" not in memory:\n",
        "    print(\"What's the best Sci-Fi franchise?\")\n",
        "    memory.append(input())"
      ]
    },
    {
      "cell_type": "markdown",
      "metadata": {
        "id": "c5BfgH9xoA3O"
      },
      "source": [
        "Two lists can be concatenated into a new list with the `+` operator.\n",
        "The order of arguments matters."
      ]
    },
    {
      "cell_type": "code",
      "execution_count": null,
      "metadata": {
        "id": "FbhH5n9doA3O"
      },
      "outputs": [],
      "source": [
        "list1 = [0, 1, 2, 3, 4]\n",
        "list2 = [\"a\", \"b\", \"c\"]\n",
        "print(list1 + list2)\n",
        "print(list2 + list1)\n",
        "print(list1 + list1 + list2 + list1)"
      ]
    },
    {
      "cell_type": "markdown",
      "metadata": {
        "id": "sSXajzEFoA3O"
      },
      "source": [
        "Each item in a list can be referenced by its **index**."
      ]
    },
    {
      "cell_type": "code",
      "execution_count": null,
      "metadata": {
        "id": "K2mZ1rSPoA3O"
      },
      "outputs": [],
      "source": [
        "list2 = [\"a\", \"b\", \"c\"]\n",
        "print(list2[0])\n",
        "print(list2[1])\n",
        "print(list2[2])"
      ]
    },
    {
      "cell_type": "markdown",
      "metadata": {
        "id": "35mjNshroA3O"
      },
      "source": [
        "Note that indexation starts at 0, not 1.\n",
        "Intuitively, each element of a list occurs between two numbers, and we use the one to the left to show us the item.\n",
        "\n",
        "```python\n",
        "0 a 1 b 2 c 3\n",
        "```\n",
        "\n",
        "If you accidentally use an index that's larger than the one before the last item, you'll get an error message."
      ]
    },
    {
      "cell_type": "code",
      "execution_count": null,
      "metadata": {
        "collapsed": true,
        "id": "aDwUNXdRoA3O"
      },
      "outputs": [],
      "source": [
        "print([\"a\", \"b\", \"c\"][2])  # 2 is the index of the last item"
      ]
    },
    {
      "cell_type": "code",
      "source": [
        "print([\"a\", \"b\", \"c\"][3])  # 3 is greater than 2; this means trouble"
      ],
      "metadata": {
        "id": "AZTostG04RzV"
      },
      "execution_count": null,
      "outputs": []
    },
    {
      "cell_type": "markdown",
      "source": [
        "We can use negative indicese to pick out items counting from right to left, instead.\n",
        "\n",
        "```python\n",
        "-3 a -2 b -1 c -0\n",
        "```\n",
        "\n",
        "But note that we still pick out each item based on the index to its left, so there is no point in using `-0`.\n",
        "Instead, Python treats this the same as `0` (which makes sense if you think of indices as integers).\n",
        "\n",
        "As with positive indices, though, negative indices aren't allowed to get out of range."
      ],
      "metadata": {
        "id": "acX6U6l83dpD"
      }
    },
    {
      "cell_type": "code",
      "source": [
        "print([\"a\", \"b\", \"c\"][-2])  # 2 is the index of the second item from the right\n",
        "print([\"a\", \"b\", \"c\"][-3])  # 3 is the index of the third item from the right; still good, even though 3 didn't work"
      ],
      "metadata": {
        "id": "n0CUHLKW31nh"
      },
      "execution_count": null,
      "outputs": []
    },
    {
      "cell_type": "code",
      "source": [
        "print([\"a\", \"b\", \"c\"][-4])  # oops, no item at this index; this means trouble"
      ],
      "metadata": {
        "id": "MeZhPCss4VtC"
      },
      "execution_count": null,
      "outputs": []
    },
    {
      "cell_type": "code",
      "source": [
        "print([\"a\", \"b\", \"c\"][-0])  # and what do we get here?"
      ],
      "metadata": {
        "id": "QraUiutw4cMT"
      },
      "execution_count": null,
      "outputs": []
    },
    {
      "cell_type": "markdown",
      "metadata": {
        "id": "7ESH4VpFoA3O"
      },
      "source": [
        "We can also use indices to pick out parts of a list with **slices**."
      ]
    },
    {
      "cell_type": "code",
      "execution_count": null,
      "metadata": {
        "id": "bTW-g98NoA3P"
      },
      "outputs": [],
      "source": [
        "list2 = [\"a\", \"b\", \"c\"]\n",
        "print(list2[1:3])"
      ]
    },
    {
      "cell_type": "markdown",
      "metadata": {
        "id": "HrmbRSz_oA3P"
      },
      "source": [
        "The index before/after the colon `:` can be omitted.\n",
        "In that case Python uses the first/last index of the list."
      ]
    },
    {
      "cell_type": "code",
      "execution_count": null,
      "metadata": {
        "id": "hTVCK5S1oA3P"
      },
      "outputs": [],
      "source": [
        "list2 = [\"a\", \"b\", \"c\"]\n",
        "print(list2[:2])  # from start to 2\n",
        "print(list2[1:])  # from 1 to end\n",
        "print(list2[:])   # from start to end"
      ]
    },
    {
      "cell_type": "markdown",
      "metadata": {
        "id": "FotPxQ7ioA3P"
      },
      "source": [
        "With slices, there is no problem when the second index is too large for the list."
      ]
    },
    {
      "cell_type": "code",
      "execution_count": null,
      "metadata": {
        "collapsed": true,
        "id": "TMDM74sCoA3P"
      },
      "outputs": [],
      "source": [
        "print([\"a\", \"b\", \"c\"][:999])  # a-okay with slices, no problem here"
      ]
    },
    {
      "cell_type": "code",
      "execution_count": null,
      "metadata": {
        "collapsed": true,
        "id": "rOYHhinioA3P"
      },
      "outputs": [],
      "source": [
        "print([\"a\", \"b\", \"c\"][999])  # ouch"
      ]
    },
    {
      "cell_type": "markdown",
      "metadata": {
        "id": "iI4xhV3uoA3P"
      },
      "source": [
        "This may seem horribly inconsistent to you, but if slices were as picky as single indices they would be very tricky to work with.\n",
        "Compare the following two code snippets.\n",
        "Each one returns the first 5 items of a list, but the second does so in a manner that never uses slices that extend beyond the end of the list.\n",
        "As you can see, the code is a bit more convoluted with no clear gain."
      ]
    },
    {
      "cell_type": "code",
      "execution_count": null,
      "metadata": {
        "id": "tUxa5MFmoA3P"
      },
      "outputs": [],
      "source": [
        "list1 = [0, 1, 2, 3, 4, 5, 6, 7, 8, 9]\n",
        "list2 = [\"a\", \"b\", \"c\"]\n",
        "\n",
        "for l in [list1, list2]:\n",
        "    print(l[:5])"
      ]
    },
    {
      "cell_type": "code",
      "execution_count": null,
      "metadata": {
        "id": "_VTEX_6aoA3P"
      },
      "outputs": [],
      "source": [
        "list1 = [0, 1, 2, 3, 4, 5, 6, 7, 8, 9]\n",
        "list2 = [\"a\", \"b\", \"c\"]\n",
        "\n",
        "for l in [list1, list2]:\n",
        "    end = min(5, len(l))\n",
        "    print(l[:end])"
      ]
    },
    {
      "cell_type": "markdown",
      "metadata": {
        "id": "5C9Sef0noA3P"
      },
      "source": [
        "**Caution:** slices always return lists, whereas a single index returns an item from the list.\n",
        "Compare the following:"
      ]
    },
    {
      "cell_type": "code",
      "execution_count": null,
      "metadata": {
        "id": "8loORO44oA3Q"
      },
      "outputs": [],
      "source": [
        "list2 = [\"a\", \"b\", \"c\"]\n",
        "print(list2[2])\n",
        "print(list2[2:])"
      ]
    },
    {
      "cell_type": "markdown",
      "source": [
        "**Caution:** Lists and variable assignments can interact in unexpected ways.\n",
        "When two variables `foo` and `bar` refer to the same list, using `foo` with an operation that changs the list also affects `bar`.\n",
        "But using `foo` with an operation that creates a new list means that `foo` now refers to that new list whereas `bar` still refers to the original list without any changes.  "
      ],
      "metadata": {
        "id": "UAgbcyQ71K85"
      }
    },
    {
      "cell_type": "code",
      "source": [
        "# .append changes an existing list, variables behave as expected\n",
        "foo = [\"a\"]\n",
        "bar = foo\n",
        "bar.append(\"b\")\n",
        "print(foo)\n",
        "print(bar)"
      ],
      "metadata": {
        "id": "SaRAalwr1KPu"
      },
      "execution_count": null,
      "outputs": []
    },
    {
      "cell_type": "code",
      "source": [
        "# + creates a new list, old variable assignments still refer to the original list\n",
        "foo = [\"a\"]\n",
        "bar = foo\n",
        "bar = bar + [\"b\"]\n",
        "print(foo)\n",
        "print(bar)"
      ],
      "metadata": {
        "id": "46ngR1z3143w"
      },
      "execution_count": null,
      "outputs": []
    },
    {
      "cell_type": "markdown",
      "metadata": {
        "id": "VCvUENrZoA3Q"
      },
      "source": [
        "### Summary\n",
        "\n",
        "```python\n",
        "# general list format\n",
        "[item1, item2, item3]\n",
        "# adding an item to a list\n",
        "list.append(some_list, item)\n",
        "# using the append-method instead\n",
        "some_list.append(item)\n",
        "# checking membership\n",
        "item in some_list\n",
        "item not in some_list\n",
        "# concatenating lists\n",
        "list1 + list2 + list3 + list4  # and so on\n",
        "# using indices\n",
        "list1[some_index]\n",
        "# and slices for extracting sublists\n",
        "list1[start_index:end_index]\n",
        "```"
      ]
    },
    {
      "cell_type": "markdown",
      "metadata": {
        "id": "oSnC_ffloA3Q"
      },
      "source": [
        "### Common mistakes\n",
        "\n",
        "- Lists use square brackets, not parentheses or curly braces.\n",
        "- Don't confuse `.append` (adding items to an existing list) and `+` (concatenating lists).\n",
        "  Something like `some_list + 5` won't work!\n",
        "- Also, `.append` modifies the existing list, whereas `+` constructs a new list.\n",
        "  This matters for variable assignment.\n",
        "  So `some_list.append(5)` does not do the same as `some_list + [5]`.\n",
        "- Do not confuse functions and method.\n",
        "  You can use `list.append(some_list, 5)` or `some_list.append(5)`, but not `append(some_list, 5)`, or `some_list.list.append(5)`, or `some_list.append(some_list, 5)`.\n",
        "- Indices are numbered left-to-right starting from 0, not 1.\n",
        "- Never use an index that's too large for the list.\n",
        "- Don't confuse index notation `[some_index]` and slice notation `[start_index:end_index]`."
      ]
    },
    {
      "cell_type": "markdown",
      "metadata": {
        "id": "CP9l04AKoA3Q"
      },
      "source": [
        "## More on strings\n",
        "\n",
        "Strings are very similar to lists."
      ]
    },
    {
      "cell_type": "code",
      "execution_count": null,
      "metadata": {
        "id": "T7Tgun19oA3Q"
      },
      "outputs": [],
      "source": [
        "# defining strings\n",
        "string1 = \"What a\"\n",
        "string2 = \"lovely string\"\n",
        "\n",
        "# concatenation with +; note that we have to manually add the space between them\n",
        "print(string1 + \" \" + string2)\n",
        "\n",
        "# membership test with in and not in\n",
        "if \"hat \" in string1:\n",
        "    print(\"We can easily check for substrings.\")\n",
        "if \"ING\" not in string2:\n",
        "    print(\"But the checks are case sensitive.\")"
      ]
    },
    {
      "cell_type": "markdown",
      "source": [
        "However, there is no counterpart to `.append`."
      ],
      "metadata": {
        "id": "7pY1mWyo5Qg9"
      }
    },
    {
      "cell_type": "code",
      "source": [
        "str.append(\"foo\", \"bar\")"
      ],
      "metadata": {
        "id": "EtIf2Uov5P8-"
      },
      "execution_count": null,
      "outputs": []
    },
    {
      "cell_type": "code",
      "source": [
        "\"foo\".append(\"bar\")"
      ],
      "metadata": {
        "id": "YVWxWKVB5iPo"
      },
      "execution_count": null,
      "outputs": []
    },
    {
      "cell_type": "markdown",
      "metadata": {
        "id": "gxgDTOeooA3Q"
      },
      "source": [
        "In addition, the functions `str.upper`, `str.lower`, `str.title` (or their corresponding methods) can be used to convert a string into a new one with appropriate capitalization."
      ]
    },
    {
      "cell_type": "code",
      "execution_count": null,
      "metadata": {
        "id": "s3U7rg3hoA3R"
      },
      "outputs": [],
      "source": [
        "improper_cap = \"This String, it is CaPitaLizEd BADLY!!!\"\n",
        "\n",
        "# all upper case\n",
        "print(str.upper(improper_cap))  # function\n",
        "print(improper_cap.upper())     # method; don't forget about () at the end\n",
        "\n",
        "# all lower case\n",
        "print(str.lower(improper_cap))  # function\n",
        "print(improper_cap.lower())     # method; don't forget about () at the end\n",
        "\n",
        "# all title case\n",
        "print(str.title(improper_cap))  # function\n",
        "print(improper_cap.title())     # method; don't forget about () at the end"
      ]
    },
    {
      "cell_type": "markdown",
      "source": [
        "**Caution:** These methods create new strings, they do not modify the current string.\n",
        "This matters when using variables."
      ],
      "metadata": {
        "id": "y8SmSDku6C0j"
      }
    },
    {
      "cell_type": "code",
      "source": [
        "var = \"foo\"\n",
        "print(var.upper())\n",
        "print(var)  # still lowercase"
      ],
      "metadata": {
        "id": "57VgZTyg6K8b"
      },
      "execution_count": null,
      "outputs": []
    },
    {
      "cell_type": "code",
      "source": [
        "var = \"foo\"\n",
        "var = var.upper()\n",
        "print(var)  # now it is uppercase"
      ],
      "metadata": {
        "id": "I-ETE1YL6dGR"
      },
      "execution_count": null,
      "outputs": []
    },
    {
      "cell_type": "markdown",
      "metadata": {
        "id": "b6AzYDBYoA3R"
      },
      "source": [
        "Keep in mind that Python does not ignore capitalization differences by default."
      ]
    },
    {
      "cell_type": "code",
      "execution_count": null,
      "metadata": {
        "id": "qNoRC2HCoA3R"
      },
      "outputs": [],
      "source": [
        "print(\"String\" == \"STRING\")\n",
        "print(\"String\".lower() == \"STRING\".lower())"
      ]
    },
    {
      "cell_type": "markdown",
      "metadata": {
        "id": "gVlA24lNoA3R"
      },
      "source": [
        "### Summary\n",
        "\n",
        "```python\n",
        "# use double quotes to avoid issues with apostrophes\n",
        "\"somebody's favorite string\"\n",
        "# concatenation with +\n",
        "\"some string\" + \" and some other string\"\n",
        "# change capitalization with function\n",
        "str.upper(some_string)\n",
        "str.lower(some_string)\n",
        "str.title(some_string)\n",
        "# change capitalization with method\n",
        "some_string.upper()\n",
        "some_string.lower()\n",
        "some_string.title()\n",
        "# check substring\n",
        "some_substring in some_string\n",
        "some_substring not in some_string\n",
        "```"
      ]
    },
    {
      "cell_type": "markdown",
      "metadata": {
        "id": "6LvmIbcQoA3R"
      },
      "source": [
        "### Common mistakes\n",
        "\n",
        "- When concatenating strings with `+`, you have to handle whitespace yourself.\n",
        "  The output of `\"some\" + \"string\"` is `\"somestring\"`, not `\"some string\"`.\n",
        "- When using methods for changing capitalization, don't forget about the parenthesis at the end.\n",
        "  It is `some_string.upper()`, not `some_string.upper`."
      ]
    },
    {
      "cell_type": "markdown",
      "metadata": {
        "id": "9DFws8B4oA3R"
      },
      "source": [
        "## Sets\n",
        "\n",
        "Sets are very similar to lists except that they are\n",
        "\n",
        "1. unordered, and\n",
        "1. do not contain duplicates."
      ]
    },
    {
      "cell_type": "code",
      "execution_count": null,
      "metadata": {
        "id": "6SSgxQu_oA3R"
      },
      "outputs": [],
      "source": [
        "list1 = [\"some string\"]\n",
        "list2 = [\"some string\", \"another string\"]\n",
        "list3 = [\"another string\", \"some string\"]\n",
        "list4 = [\"some string\", \"some string\", \"another string\"]\n",
        "\n",
        "# all four lists are distinct from each other\n",
        "the_lists = [list1, list2, list3, list4]\n",
        "for l1 in the_lists:\n",
        "    print(l1, \"is the same as\")\n",
        "    for l2 in the_lists:\n",
        "        if l1 != l2:\n",
        "            print(l2, l1 == l2, sep=\": \")\n",
        "    print(\"-----\")"
      ]
    },
    {
      "cell_type": "code",
      "execution_count": null,
      "metadata": {
        "id": "nCQYmfMRoA3R"
      },
      "outputs": [],
      "source": [
        "list1 = [\"some string\"]\n",
        "list2 = [\"some string\", \"another string\"]\n",
        "list3 = [\"another string\", \"some string\"]\n",
        "list4 = [\"some string\", \"some string\", \"another string\"]\n",
        "\n",
        "# but as sets, l2 = l3 = l4\n",
        "the_lists = [list1, list2, list3, list4]\n",
        "for l1 in the_lists:\n",
        "    print(set(l1), \"is the same as\")\n",
        "    for l2 in the_lists:\n",
        "        if l1 != l2:\n",
        "            print(set(l2), set(l1) == set(l2), sep=\": \")\n",
        "    print(\"-----\")"
      ]
    },
    {
      "cell_type": "markdown",
      "metadata": {
        "id": "Bpm5Uh2XoA3S"
      },
      "source": [
        "Sets can be defined in two different ways.\n",
        "Either you convert a list to a set using the `set()` function, or you directly define the set using curly braces."
      ]
    },
    {
      "cell_type": "code",
      "execution_count": null,
      "metadata": {
        "id": "aJXbA4QBoA3S"
      },
      "outputs": [],
      "source": [
        "set([\"some string\", \"another string\"]) == {\"some string\", \"another string\"}"
      ]
    },
    {
      "cell_type": "markdown",
      "source": [
        "You can also use `.add` to add elements to a set.\n",
        "Since sets have no order, it does not matter in what order elements are added."
      ],
      "metadata": {
        "id": "s3NN5CxD7cL3"
      }
    },
    {
      "cell_type": "code",
      "source": [
        "var = set()  # start with an empty set\n",
        "var.add(5)\n",
        "var.add(\"a\")\n",
        "print(var)"
      ],
      "metadata": {
        "id": "BYJfUL3j7haL"
      },
      "execution_count": null,
      "outputs": []
    },
    {
      "cell_type": "code",
      "source": [
        "foo = set()\n",
        "foo.add(5)\n",
        "foo.add(\"a\")\n",
        "\n",
        "bar = set()\n",
        "bar.add(\"a\")\n",
        "bar.add(5)\n",
        "\n",
        "print(foo == bar)"
      ],
      "metadata": {
        "id": "3qzAmIrZ7zTt"
      },
      "execution_count": null,
      "outputs": []
    },
    {
      "cell_type": "markdown",
      "metadata": {
        "id": "JdcTGlcAoA3S"
      },
      "source": [
        "Sets can be much faster than lists for membership tests, which are still done with `in` and `not in`."
      ]
    },
    {
      "cell_type": "code",
      "execution_count": null,
      "metadata": {
        "id": "M2wlXCVroA3S"
      },
      "outputs": [],
      "source": [
        "print(0 in {0,1})\n",
        "print(0 not in {0,1})"
      ]
    },
    {
      "cell_type": "markdown",
      "metadata": {
        "id": "z2TZs0FJoA3S"
      },
      "source": [
        "But sets are also more limited than lists.\n",
        "They do not preserve order, cannot contain duplicates, and they can only contain so-called *hashable* objects, e.g. strings and numbers.\n",
        "Lists, sets, and counters are not hashable and thus cannot be contained in sets."
      ]
    },
    {
      "cell_type": "code",
      "execution_count": null,
      "metadata": {
        "id": "6ODIX2I6oA3S"
      },
      "outputs": [],
      "source": [
        "# allowed\n",
        "good_set1 = {\"this\", \"is\", \"okay\"}\n",
        "good_set2 = {0, 3, 938, 16, -5, 3.7, \"see\", \"numbers\", \"work\", \"111!11\", 5, 5}"
      ]
    },
    {
      "cell_type": "code",
      "execution_count": null,
      "metadata": {
        "collapsed": true,
        "id": "KClcO6lJoA3S"
      },
      "outputs": [],
      "source": [
        "bad_set1 = {[\"this\", \"is\"], \"not\", \"okay\"}"
      ]
    },
    {
      "cell_type": "code",
      "execution_count": null,
      "metadata": {
        "collapsed": true,
        "id": "j122qazmoA3S"
      },
      "outputs": [],
      "source": [
        "bad_set2 = {{\"this\", \"is\"}, \"not\", \"okay\", \"either\"}"
      ]
    },
    {
      "cell_type": "markdown",
      "metadata": {
        "id": "V2XlKvNgoA3S"
      },
      "source": [
        "A common use for sets is to remove duplicates from a list.\n",
        "One first converts the list to a set, and then the set back to a list."
      ]
    },
    {
      "cell_type": "code",
      "execution_count": null,
      "metadata": {
        "id": "-1M2JHufoA3S"
      },
      "outputs": [],
      "source": [
        "redundant_list = [0, 0, 0, 0, 0, 0, 0]\n",
        "print(set(redundant_list))\n",
        "print(list(set(redundant_list)))"
      ]
    },
    {
      "cell_type": "markdown",
      "metadata": {
        "id": "v__0SZNGoA3S"
      },
      "source": [
        "### Summary\n",
        "\n",
        "```python\n",
        "# convert some_list to a set\n",
        "set(some_list)\n",
        "# define a set\n",
        "{item1, item2, ...}\n",
        "# membership test\n",
        "item in some_set\n",
        "item not in some_set\n",
        "```"
      ]
    },
    {
      "cell_type": "markdown",
      "metadata": {
        "id": "slgiFay9oA3T"
      },
      "source": [
        "### Common mistakes\n",
        "\n",
        "- Sets are not lists.\n",
        "  You cannot use indices, slices, `+`, or `.append`.\n",
        "- Sets are less flexible than lists, they can only contain certain types of objects.\n",
        "  Don't try to put lists or sets inside sets.\n",
        "- When in doubt, stick with lists and only use sets if you really need the extra speed."
      ]
    },
    {
      "cell_type": "markdown",
      "metadata": {
        "id": "Seiiv83zoA3T"
      },
      "source": [
        "## `for`-loops\n",
        "\n",
        "Use a `for` loop to iterate over a \"container-like\" object, e.g. a list, a string, or a set.\n",
        "For each item to be iterated over, the `for` loop identifies it with a variable `var` and then carries out some computations that may or mayt not involve `var`."
      ]
    },
    {
      "cell_type": "code",
      "execution_count": null,
      "metadata": {
        "id": "Bp4afa4FoA3T"
      },
      "outputs": [],
      "source": [
        "for word in [\"list\", \"items\"]:\n",
        "    print(word)\n",
        "\n",
        "for word in [\"set\", \"items\"]:\n",
        "    print(word)\n",
        "\n",
        "for char in \"string\":\n",
        "    print(char)\n",
        "\n",
        "for char in \"string\":\n",
        "    print(\"x\", end=\"\")"
      ]
    },
    {
      "cell_type": "markdown",
      "metadata": {
        "id": "G9LOIgogoA3T"
      },
      "source": [
        "Since there are no restrictions on the code block under a `for`, it can contain other code blocks such as `while` loops and `if` blocks."
      ]
    },
    {
      "cell_type": "code",
      "execution_count": null,
      "metadata": {
        "id": "B4mzRbnCoA3T"
      },
      "outputs": [],
      "source": [
        "for word in [\"list\", \"items\"]:\n",
        "    for char in word:\n",
        "        if char in \"aeiou\":\n",
        "            while True:\n",
        "                print(\"I found a vowel!\")\n",
        "                print(\"Guess what it is!\")\n",
        "                guess = input()\n",
        "                if guess == char:\n",
        "                    break\n",
        "            print(\"Yes, that's it! How did you know?\")\n",
        "    print(f\"Done with {word}\")\n",
        "print(\"That's it folks!\")"
      ]
    },
    {
      "cell_type": "code",
      "source": [],
      "metadata": {
        "id": "CKCr7RxB8Yax"
      },
      "execution_count": null,
      "outputs": []
    },
    {
      "cell_type": "markdown",
      "source": [
        "You already saw that the code inside a `for` block does not actually have to use the variable defined by the `for`-loop.\n",
        "As a convention, we will use `_` as the variable name in these cases."
      ],
      "metadata": {
        "id": "sM3h7CpE8ZSI"
      }
    },
    {
      "cell_type": "code",
      "source": [
        "for _ in \"string\":\n",
        "    print(\"x\", end=\"\")"
      ],
      "metadata": {
        "id": "9OyUZrEA9RoM"
      },
      "execution_count": null,
      "outputs": []
    },
    {
      "cell_type": "markdown",
      "metadata": {
        "id": "IJ6jgsKBoA3T"
      },
      "source": [
        "### Summary\n",
        "\n",
        "```python\n",
        "for var in container:\n",
        "    do_something\n",
        "```"
      ]
    },
    {
      "cell_type": "markdown",
      "metadata": {
        "id": "-YU2HsYpoA3T"
      },
      "source": [
        "### Common mistakes\n",
        "\n",
        "- You can only iterate over container-like objects (*iterables*).\n",
        "  Something like `for i in 5` or `for n < 5` does not work.\n",
        "- As always, pay attention to proper indentation."
      ]
    },
    {
      "cell_type": "markdown",
      "metadata": {
        "id": "vYfHyfKNoA3T"
      },
      "source": [
        "## Counters\n",
        "\n",
        "Counters may look similar to lists, but they work very differently.\n",
        "A Counter is a collection of **keys**, each one of which is associated with a specific numerical **value**.\n",
        "The default use for a Counter is to keep track of how often a specific item occurs in a list."
      ]
    },
    {
      "cell_type": "code",
      "execution_count": null,
      "metadata": {
        "collapsed": true,
        "id": "wojxE5ALoA3T"
      },
      "outputs": [],
      "source": [
        "from collections import Counter\n",
        "\n",
        "words = [\"John\", \"likes\" , \"John\", \"and\", \"only\", \"John\"]\n",
        "print(Counter(words))"
      ]
    },
    {
      "cell_type": "markdown",
      "metadata": {
        "id": "8VjBsNVJoA3T"
      },
      "source": [
        "The keys are used to retrieve specific values from the Counter.\n",
        "You cannot use indices because in contrast to lists, Counters have no fixed order."
      ]
    },
    {
      "cell_type": "code",
      "execution_count": null,
      "metadata": {
        "collapsed": true,
        "id": "B_MatnNEoA3U"
      },
      "outputs": [],
      "source": [
        "from collections import Counter\n",
        "\n",
        "words = [\"John\", \"likes\" , \"John\", \"and\", \"only\", \"John\"]\n",
        "counts = Counter(words)\n",
        "\n",
        "for word in words:\n",
        "    print(f\"Count of {word}: {counts[word]}\")"
      ]
    },
    {
      "cell_type": "markdown",
      "metadata": {
        "id": "NrSNAxhEoA3U"
      },
      "source": [
        "To get a list of the most common words and their respective counts, use the `Counter.most_common` function, or the `.most_common` method."
      ]
    },
    {
      "cell_type": "code",
      "execution_count": null,
      "metadata": {
        "collapsed": true,
        "id": "mR-NS5vfoA3U"
      },
      "outputs": [],
      "source": [
        "from collections import Counter\n",
        "\n",
        "words = [\"John\", \"likes\" , \"John\", \"and\", \"only\", \"John\", \"and\", \"that\", \"'s\", \"a\", \"fact\"]\n",
        "counts = Counter(words)\n",
        "\n",
        "# print the 2 most common items; function style\n",
        "print(Counter.most_common(counts, 2)\n",
        "\n",
        "# print the 2 most common items; method style\n",
        "print(counts.most_common(2))"
      ]
    },
    {
      "cell_type": "markdown",
      "metadata": {
        "id": "ERTX2TdwoA3U"
      },
      "source": [
        "Counters can be iterated over with `for`.\n",
        "But this will only iterate over the keys, not the values."
      ]
    },
    {
      "cell_type": "code",
      "execution_count": null,
      "metadata": {
        "id": "P9YJjdjzoA3U"
      },
      "outputs": [],
      "source": [
        "from collections import Counter\n",
        "\n",
        "words = [\"John\", \"likes\" , \"John\", \"and\", \"only\", \"John\", \"and\", \"that\", \"'s\", \"a\", \"fact\"]\n",
        "counts = Counter(words)\n",
        "\n",
        "for c in counts:\n",
        "    print(c)"
      ]
    },
    {
      "cell_type": "markdown",
      "metadata": {
        "id": "gMYCxc3XoA3U"
      },
      "source": [
        "You can use `.keys()` and `.values()` to get the keys and values of a Counter, respectively.\n",
        "Both are also available as functions (`Counter.keys()` and `Counter.values()`)."
      ]
    },
    {
      "cell_type": "code",
      "execution_count": null,
      "metadata": {
        "collapsed": true,
        "id": "lFS-DkkLoA3U"
      },
      "outputs": [],
      "source": [
        "from collections import Counter\n",
        "\n",
        "words = [\"John\", \"likes\" , \"John\", \"and\", \"only\", \"John\", \"and\", \"that\", \"'s\", \"a\", \"fact\"]\n",
        "counts = Counter(words)\n",
        "\n",
        "# print keys, as function\n",
        "print(Counter.keys(counts))\n",
        "# print keys, as method\n",
        "print(counts.keys())\n",
        "\n",
        "# print values, as function\n",
        "print(Counter.values(counts))\n",
        "# print values, as method\n",
        "print(counts.values())"
      ]
    },
    {
      "cell_type": "markdown",
      "metadata": {
        "id": "wvDEa5N1oA3U"
      },
      "source": [
        "### Summary\n",
        "\n",
        "```python\n",
        "# Counters need to be imported\n",
        "from collections import Counter\n",
        "# create a counter counts from some_list\n",
        "counts = Counter(some_list)\n",
        "# get the n most common items\n",
        "Counter.most_common(counts, n)  # function style\n",
        "counts.most_common(n)           # method style\n",
        "# get the list of keys (i.e. items)\n",
        "Counter.keys(counts)  # function style\n",
        "counts.keys()         # method style\n",
        "# the the list of values (i.e. counts)\n",
        "Counter.values(counts)  # function style\n",
        "counts.values()         # method style\n",
        "```"
      ]
    },
    {
      "cell_type": "markdown",
      "metadata": {
        "id": "bUyWh0EooA3U"
      },
      "source": [
        "### Common mistakes\n",
        "\n",
        "- Counters use keys, not indices.\n",
        "  Something like `some_counter[1]` won't work.\n",
        "- If the key is a string, don't forget the quotes.\n",
        "  To look at the value of `\"some_string\"`, you have to use `some_counter[\"some_string\"]`, not `some_counter[some_string]`.\n",
        "- When using the `keys` and `values` methods, don't forget the parenthesis.\n",
        "  Just `some_counter.keys` won't work, it has to be `some_counter.keys()`.\n",
        "- By default, iterating over a counter with `for` iterates over the keys, not the values."
      ]
    },
    {
      "cell_type": "markdown",
      "metadata": {
        "id": "D2qX9TQYoA3U"
      },
      "source": [
        "## Built-in functions\n",
        "\n",
        "Python has several built-in functions.\n",
        "Two of them are `print` and `input`, discussed at the beginning of this notebook.\n",
        "Other important ones are `len`, `sorted`, `max`, `min`, and `sum`."
      ]
    },
    {
      "cell_type": "markdown",
      "metadata": {
        "id": "VX1z2ZKAoA3V"
      },
      "source": [
        "The `len` function tells you the length of an item.\n",
        "It works with strings, lists, sets, Counters, and many other container-like objects."
      ]
    },
    {
      "cell_type": "code",
      "execution_count": null,
      "metadata": {
        "collapsed": true,
        "id": "acKAVAfnoA3V"
      },
      "outputs": [],
      "source": [
        "# length of string, by total number of characters\n",
        "print(len(\"This is short, but not that short\"))\n",
        "\n",
        "# length of list, by number of items\n",
        "print(len([\"This\", \"is\", \"short\", \"but\", \"not\", \"that\", \"short\"]))\n",
        "\n",
        "# length of set, by number of items;\n",
        "# not the shorter length because sets do not contain duplicates\n",
        "print(len({\"This\", \"is\", \"short\", \"but\", \"not\", \"that\", \"short\"}))\n",
        "\n",
        "# length of Counter, by number of items;\n",
        "# not the shorter length because Counters do not contain duplicate keys\n",
        "print(len(Counter([\"This\", \"is\", \"short\", \"but\", \"not\", \"that\", \"short\"]))"
      ]
    },
    {
      "cell_type": "markdown",
      "metadata": {
        "id": "snn6_OZ0oA3V"
      },
      "source": [
        "The `sorted` function orders objects."
      ]
    },
    {
      "cell_type": "code",
      "execution_count": null,
      "metadata": {
        "collapsed": true,
        "id": "GHmhHgIzoA3V"
      },
      "outputs": [],
      "source": [
        "sorted([\"flowers\", \"are\", \"pretty\"]"
      ]
    },
    {
      "cell_type": "markdown",
      "metadata": {
        "id": "ei_QZ2lzoA3V"
      },
      "source": [
        "It can only be used on objects that have an ordering, like strings and lists.\n",
        "It cannot be used with sets or Counters.\n",
        "It also cannot be used on lists that contain items of incomparable type.\n",
        "A list of strings is fine, and so is a list of numbers, but a list of numbers and strings cannot be sorted."
      ]
    },
    {
      "cell_type": "code",
      "execution_count": null,
      "metadata": {
        "collapsed": true,
        "id": "5HFYw9fBoA3V"
      },
      "outputs": [],
      "source": [
        "# fine\n",
        "sorted([\"Anne\", \"punched\", \"Peter\"])"
      ]
    },
    {
      "cell_type": "code",
      "execution_count": null,
      "metadata": {
        "collapsed": true,
        "id": "Vwqbv_5roA3V"
      },
      "outputs": [],
      "source": [
        "# fine\n",
        "sorted([.7, 5, -3])"
      ]
    },
    {
      "cell_type": "code",
      "execution_count": null,
      "metadata": {
        "collapsed": true,
        "id": "hjf4JuS_oA3V"
      },
      "outputs": [],
      "source": [
        "# bad\n",
        "sorted([\"Anne\", \"punched\", \"Peter\", 3, \"times\"])"
      ]
    },
    {
      "cell_type": "code",
      "execution_count": null,
      "metadata": {
        "collapsed": true,
        "id": "4l-cpkryoA3V"
      },
      "outputs": [],
      "source": [
        "# fine, because 3 is now a string\n",
        "sorted([\"Anne\", \"punched\", \"Peter\", \"3\", \"times\"])"
      ]
    },
    {
      "cell_type": "code",
      "execution_count": null,
      "metadata": {
        "collapsed": true,
        "id": "Jgh1CtEMoA3W"
      },
      "outputs": [],
      "source": [
        "# bad, because we have both strings and lists of strings\n",
        "sorted([\"Anne\", \"punched\", \"Peter\", [\"3\", \"times\"]])"
      ]
    },
    {
      "cell_type": "markdown",
      "metadata": {
        "id": "KBUFf-csoA3W"
      },
      "source": [
        "Numbers are sorted from smallest to largest.\n",
        "Strings are ordered as follows:\n",
        "\n",
        "1. punctuation\n",
        "1. words that start with upper case, in alphabetical order\n",
        "1. words that start with lower case, in alphabetical order\n",
        "\n",
        "The same ordering principles are used by the functions `max` and `min`.\n",
        "Each one takes an arbitrary number of arguments and returns a specific one of them.\n",
        "The `max` function returns the argument that would be last if the arguments were rearranged with `sorted`.\n",
        "Similarly, the `min` function returns the argument that would be first."
      ]
    },
    {
      "cell_type": "code",
      "execution_count": null,
      "metadata": {
        "collapsed": true,
        "id": "NcCTfvavoA3W"
      },
      "outputs": [],
      "source": [
        "max(.7, 5, -3)\n",
        "min(.7, 5, -3)\n",
        "max(\"Anne\", \"punched\", \"Peter\")\n",
        "min(\"Anne\", \"punched\", \"Peter\")"
      ]
    },
    {
      "cell_type": "markdown",
      "metadata": {
        "id": "ZFo7-rY6oA3W"
      },
      "source": [
        "Since `max` and `min` presuppose an ordering, their arguments must be comparable in the same manner outlined above for `sorted`."
      ]
    },
    {
      "cell_type": "markdown",
      "metadata": {
        "id": "Lvryi967oA3W"
      },
      "source": [
        "Finally, the `sum` function takes a list of numbers and returns their sum."
      ]
    },
    {
      "cell_type": "code",
      "execution_count": null,
      "metadata": {
        "collapsed": true,
        "id": "59JuTuRtoA3W"
      },
      "outputs": [],
      "source": [
        "sum([3,17, .7, 8])"
      ]
    },
    {
      "cell_type": "code",
      "execution_count": null,
      "metadata": {
        "collapsed": true,
        "id": "TiKXj2ycoA3W"
      },
      "outputs": [],
      "source": [
        "# this does not work\n",
        "sum(3, 17, .7, 8)"
      ]
    },
    {
      "cell_type": "code",
      "execution_count": null,
      "metadata": {
        "collapsed": true,
        "id": "dyFw6dPfoA3W"
      },
      "outputs": [],
      "source": [
        "# nor does this\n",
        "sum([3, 17], [.7, 8])"
      ]
    },
    {
      "cell_type": "code",
      "execution_count": null,
      "metadata": {
        "collapsed": true,
        "id": "SMcBjoYtoA3W"
      },
      "outputs": [],
      "source": [
        "# strings cannot be summed\n",
        "sum([\"does\", \"not\", \"work\"])"
      ]
    },
    {
      "cell_type": "code",
      "execution_count": null,
      "metadata": {
        "collapsed": true,
        "id": "DRQJRRrtoA3W"
      },
      "outputs": [],
      "source": [
        "# but this is fine\n",
        "sum(Counter([\"does\", \"not\", \"not\", \"work\"]))"
      ]
    },
    {
      "cell_type": "markdown",
      "metadata": {
        "id": "liWBTvdroA3W"
      },
      "source": [
        "## Custom functions\n",
        "\n",
        "Like almost every other programming language, Python allows you to define your own functions.\n",
        "Functions take a fixed number of arguments and return a specific output.\n",
        "You should always add a docstring that describes what the function does.\n",
        "For simple functions, docstrings can be very short."
      ]
    },
    {
      "cell_type": "code",
      "execution_count": null,
      "metadata": {
        "id": "FXqICQ1koA3X"
      },
      "outputs": [],
      "source": [
        "# define a new function for adding 1\n",
        "def add_1(n):\n",
        "    \"\"\"Increment n by 1.\"\"\"\n",
        "    # return the result of increasing n by 1\n",
        "    return n + 1\n",
        "\n",
        "\n",
        "# a definition by itself does not do anything;\n",
        "# but we can now call the function wherever we want\n",
        "m = 0\n",
        "print(\"The number is\", m)\n",
        "while m <= 5:\n",
        "    print(\"Call add_1 function to increment number by 1\")\n",
        "    m = add_1(m)\n",
        "    print(\"The number is now\", m)\n",
        "    print(\"---\")"
      ]
    },
    {
      "cell_type": "markdown",
      "metadata": {
        "id": "JXgACnTKoA3X"
      },
      "source": [
        "Functions can have multiple `return`statements.\n",
        "But as soon as the first `return` is reached, the function ends and outputs the value specified by this `return` statement."
      ]
    },
    {
      "cell_type": "code",
      "execution_count": null,
      "metadata": {
        "id": "rm0yJH5goA3X"
      },
      "outputs": [],
      "source": [
        "def towards_10(n):\n",
        "    \"\"\"Gradually shift n towards 10.\"\"\"\n",
        "    if n < 10:\n",
        "        print(\"towards_10 info: n too small, incrementing by 3\")\n",
        "        return n + 3\n",
        "    elif n > 10:\n",
        "        print(\"towards_10 info: n too large, decrementing by 1\")\n",
        "        return n -1\n",
        "    else:\n",
        "        print(\"towards_10 info: n is already 10\")\n",
        "        return n\n",
        "\n",
        "\n",
        "m = 0\n",
        "print(\"The number is now\", m)\n",
        "print(\"---\")\n",
        "while True:\n",
        "    print(\"Call towards_10 function to get the number closer to 10\")\n",
        "    m = towards_10(m)\n",
        "    print(\"The number is now\", m)\n",
        "    print(\"---\")\n",
        "    if m == 10:\n",
        "        print(\"Call towards_10 function to get the number closer to 10\")\n",
        "        n = towards_10(m)\n",
        "        print(\"The number is now\", m)\n",
        "        print(\"---\")\n",
        "        break"
      ]
    },
    {
      "cell_type": "code",
      "execution_count": null,
      "metadata": {
        "id": "L3JuVAAYoA3X"
      },
      "outputs": [],
      "source": [
        "def contains_small_prime(number_list):\n",
        "    \"\"\"Check list for primes < 10.\"\"\"\n",
        "    for n in number_list:\n",
        "        if n in [2, 3, 5, 7]:\n",
        "            # we found a small prime;\n",
        "            # return True and stop here\n",
        "            return True\n",
        "    # we have made it through the whole for-loop without returning;\n",
        "    # hence the list does not contain a small prime\n",
        "    return False\n",
        "\n",
        "\n",
        "print(contains_small_prime([\"Alex\", \"Babs\"]))\n",
        "print(contains_small_prime([0, 593, 7]))"
      ]
    },
    {
      "cell_type": "markdown",
      "metadata": {
        "id": "5QOr7WnYoA3X"
      },
      "source": [
        "Always keep in mind that a function ends as soon as the first `return` is encountered.\n",
        "You cannot use `return` inside a loop to get multiple outputs."
      ]
    },
    {
      "cell_type": "code",
      "execution_count": null,
      "metadata": {
        "id": "nalZvXSQoA3X"
      },
      "outputs": [],
      "source": [
        "def broken_search_all_shorts(string_list):\n",
        "    \"\"\"Return all short strings in the list.\"\"\"\n",
        "    for s in string_list:\n",
        "        if len(s) < 3:\n",
        "            return s\n",
        "\n",
        "print(broken_search_all_shorts([\"a\", \"bee\", \"is\", \"not\", \"dangerous\"]))\n",
        "print(\"Intended output: a, bee, is, not\")\n",
        "print(\"But as you can see, the function stops with the first return.\")"
      ]
    },
    {
      "cell_type": "markdown",
      "metadata": {
        "id": "g-o3LltSoA3X"
      },
      "source": [
        "You can use `return` together with ternary `if` (see also the earlier section on `if`)."
      ]
    },
    {
      "cell_type": "code",
      "execution_count": null,
      "metadata": {
        "id": "6M7q_8BGoA3X"
      },
      "outputs": [],
      "source": [
        "# the long version without ternary if\n",
        "def same_length_concat(string1, string2):\n",
        "    \"Concatenate strings of same length, otherwise return first string.\"\n",
        "    if len(string1) == len(string2):\n",
        "        return string1 + string2\n",
        "    else:\n",
        "        return string1\n",
        "\n",
        "\n",
        "print(same_length_concat(\"Hi \", \"Sue\"))\n",
        "print(same_length_concat(\"Hi \", \"John\"))"
      ]
    },
    {
      "cell_type": "code",
      "execution_count": null,
      "metadata": {
        "collapsed": true,
        "id": "OagEyErYoA3X"
      },
      "outputs": [],
      "source": [
        "# same functionality, but shorter and more readable\n",
        "def same_length_concat(string1, string2):\n",
        "    return string1 + string2 if len(string1) == len(string2) else string1\n",
        "\n",
        "\n",
        "print(same_length_concat(\"Hi \", \"Sue\"))\n",
        "print(same_length_concat(\"Hi \", \"John\"))"
      ]
    },
    {
      "cell_type": "markdown",
      "metadata": {
        "id": "KK0_a8ADoA3Y"
      },
      "source": [
        "Functions are blackboxes in the sense that nothing that happens inside the function is accessible from the outside.\n",
        "The only accessible material is whatever is output by `return`."
      ]
    },
    {
      "cell_type": "code",
      "execution_count": null,
      "metadata": {
        "id": "t-H9kjemoA3Y"
      },
      "outputs": [],
      "source": [
        "def blackbox():\n",
        "    \"\"\"Define variable a\"\"\"\n",
        "    var_a = \"This variable exists inside the function\"\n",
        "    print(var_a)\n",
        "\n",
        "\n",
        "# calling blackbox to define a\n",
        "blackbox()\n",
        "# but this still gives an error because a does not exist outside blackbox\n",
        "print(var_a)"
      ]
    },
    {
      "cell_type": "markdown",
      "metadata": {
        "id": "faxo-ZGyoA3Y"
      },
      "source": [
        "For the same reasons, variables inside functions do not overwrite the value of variables outside the function."
      ]
    },
    {
      "cell_type": "code",
      "execution_count": null,
      "metadata": {
        "id": "lG7rR82ZoA3Y"
      },
      "outputs": [],
      "source": [
        "var_b = \"This variable exists outside the function\"\n",
        "print(var_b)\n",
        "\n",
        "\n",
        "def blackbox():\n",
        "    \"\"\"Define variable a\"\"\"\n",
        "    var_b = \"This variable exists inside the function\"\n",
        "    print(var_b)\n",
        "\n",
        "# call blackbox\n",
        "blackbox()\n",
        "# but the value of a is still the same\n",
        "print(var_b)"
      ]
    },
    {
      "cell_type": "markdown",
      "metadata": {
        "id": "0TsXwz7IoA3Y"
      },
      "source": [
        "### Summary\n",
        "\n",
        "```python\n",
        "def function_name(arg_1, arg_2, ..., arg_n):\n",
        "    # some code block, perhaps containing one or more returns\n",
        "```"
      ]
    },
    {
      "cell_type": "markdown",
      "metadata": {
        "id": "dsJB0nP6oA3Y"
      },
      "source": [
        "### Common mistakes\n",
        "\n",
        "- Don't confuse **defining** a function and **calling** a function.\n",
        "  First you define the function to specify what it does.\n",
        "  Later on, you can call it to execute the code in the function.\n",
        "  Just defininig the function does not do anything.\n",
        "  \n",
        "- Don't confuse `print` and `return`.\n",
        "  The `print` function is only used to show messages to the user, whereas `return` is needed to pass a value out of a function.\n",
        "  \n",
        "- The function ends as soon as it encounters the first `return`.\n",
        "  You cannot return multiple times within the same function call.\n",
        "  \n",
        "- Functions are blackboxes.\n",
        "  Variables defined inside a function cannot be used outside of it."
      ]
    },
    {
      "cell_type": "markdown",
      "metadata": {
        "id": "aYKhXHMCoA3Y"
      },
      "source": [
        "## Libraries/modules/packages\n",
        "\n",
        "Python comes with **libraries** that provide additional functionality for specialized purposes.\n",
        "A different name for libraries is **modules**.\n",
        "A **package** is a collection of modules.\n",
        "Packages and modules are treated exactly the same, it's just that packages tend to be much larger than modules."
      ]
    },
    {
      "cell_type": "code",
      "execution_count": null,
      "metadata": {
        "collapsed": true,
        "id": "xqt7xhLooA3Y"
      },
      "outputs": [],
      "source": [
        "# we load the random library\n",
        "import random\n",
        "\n",
        "# and now we use one of its specialized functions\n",
        "chosen_item = random.choice([0, 1, 2, 3])\n",
        "print(chosen_item)"
      ]
    },
    {
      "cell_type": "markdown",
      "metadata": {
        "id": "ut2fvxEAoA3Z"
      },
      "source": [
        "If you import some library `foo` with `import foo`, the function `bar` of library `foo` will be available as `foo.bar`.\n",
        "In some cases, this can create very long function names."
      ]
    },
    {
      "cell_type": "code",
      "execution_count": null,
      "metadata": {
        "id": "MagphnmRoA3Z"
      },
      "outputs": [],
      "source": [
        "import urllib.request\n",
        "url = \"http://thomasgraf.net/images/graf.jpg\"\n",
        "urllib.request.urlretrieve(url, \"graf.jpg\")  # this only works if your CoCalc account has been upgraded already!"
      ]
    },
    {
      "cell_type": "markdown",
      "metadata": {
        "id": "D6WkEs2roA3Z"
      },
      "source": [
        "In those cases, we can use `from foo import bar` instead."
      ]
    },
    {
      "cell_type": "code",
      "execution_count": null,
      "metadata": {
        "id": "owZhbVOAoA3Z"
      },
      "outputs": [],
      "source": [
        "from urllib.request import urlretrieve\n",
        "url = \"http://thomasgraf.net/images/graf.jpg\"\n",
        "urlretrieve(url, \"graf.jpg\")  # this only works if your CoCalc account has been upgraded already!"
      ]
    },
    {
      "cell_type": "markdown",
      "metadata": {
        "id": "sUFJ8aOAoA3Z"
      },
      "source": [
        "This is particularly useful with the `pprint` library, which is often only used for its `pprint` function.\n",
        "The name `pprint` is short for *pretty print*."
      ]
    },
    {
      "cell_type": "code",
      "execution_count": null,
      "metadata": {
        "id": "pY_aXMpdoA3Z"
      },
      "outputs": [],
      "source": [
        "import pprint\n",
        "long_list = [\"This\", \"long\", \"list\", \"contains\", \"many\", \"words\", \",\", \"including\", \"supercalifragilisticexpialidocious\"]\n",
        "print(\"long_list with `print`:\")\n",
        "print(long_list)\n",
        "print(\"\\nAnd now with `pprint`:\")\n",
        "pprint.pprint(long_list)"
      ]
    },
    {
      "cell_type": "code",
      "execution_count": null,
      "metadata": {
        "scrolled": true,
        "id": "ALYcZ3KgoA3a"
      },
      "outputs": [],
      "source": [
        "from pprint import pprint\n",
        "long_list = [\"This\", \"long\", \"list\", \"contains\", \"many\", \"words\", \",\", \"including\", \"supercalifragilisticexpialidocious\"]\n",
        "print(\"long_list with `print`:\")\n",
        "print(long_list)\n",
        "print(\"\\nAnd now with `pprint`:\")\n",
        "pprint(long_list)   # now we can use the shorter command"
      ]
    },
    {
      "cell_type": "markdown",
      "metadata": {
        "id": "0aRdVbnAoA3a"
      },
      "source": [
        "## Regular expressions\n",
        "\n",
        "A regular expression (regex) is a way of definining string patterns.\n",
        "If a string matches the regex's pattern, specific actions can be performed depending on what specific function used the regex:\n",
        "\n",
        "- `re.findall`: return a list of all matches\n",
        "- `re.sub`: replace each instance of the matched pattern by some other string"
      ]
    },
    {
      "cell_type": "code",
      "execution_count": null,
      "metadata": {
        "collapsed": true,
        "id": "b0c3gMbhoA3a"
      },
      "outputs": [],
      "source": [
        "import re\n",
        "re.findall(r\"a\", \"banana\") # find all instances of \"a\" in banana"
      ]
    },
    {
      "cell_type": "code",
      "execution_count": null,
      "metadata": {
        "collapsed": true,
        "id": "d_seS6l5oA3a"
      },
      "outputs": [],
      "source": [
        "import re\n",
        "re.findall(r\"an\", \"banana\")  # find all instances of \"an\" in banana"
      ]
    },
    {
      "cell_type": "code",
      "execution_count": null,
      "metadata": {
        "id": "ANXEpKBroA3b"
      },
      "outputs": [],
      "source": [
        "import re\n",
        "re.findall(r\"a+\", \"aarvdark\")  # find all instances of one or more as in aardvark"
      ]
    },
    {
      "cell_type": "code",
      "execution_count": null,
      "metadata": {
        "id": "pfBNjzLUoA3b"
      },
      "outputs": [],
      "source": [
        "import re\n",
        "re.findall(r\"[ae]n\", \"unrepentant\")  # find all instances of a or e, followed by n"
      ]
    },
    {
      "cell_type": "code",
      "execution_count": null,
      "metadata": {
        "id": "E6tvHTiqoA3b"
      },
      "outputs": [],
      "source": [
        "import re\n",
        "re.findall(r\"[ae]+\", \"these algae meals\")  # find all instances of one ore more characters that are a or e"
      ]
    },
    {
      "cell_type": "code",
      "execution_count": null,
      "metadata": {
        "id": "qXox-imQoA3b"
      },
      "outputs": [],
      "source": [
        "import re\n",
        "re.findall(r\"\\w\", \"HI! I'm Cheffie!\")  # find all word characters (excludes space and punctuation)"
      ]
    },
    {
      "cell_type": "code",
      "execution_count": null,
      "metadata": {
        "id": "Ke7GoleaoA3b"
      },
      "outputs": [],
      "source": [
        "import re\n",
        "re.findall(r\"\\w+\", \"HI! I'm Cheffie!\")  # find all sequences of word characters (i.e. words)"
      ]
    },
    {
      "cell_type": "code",
      "execution_count": null,
      "metadata": {
        "id": "bu5xw9O8oA3c"
      },
      "outputs": [],
      "source": [
        "import re\n",
        "re.findall(r\"[\\w']+\", \"HI! I'm Cheffie!\")  # find all sequences of word characters and/or apostrophes"
      ]
    },
    {
      "cell_type": "code",
      "execution_count": null,
      "metadata": {
        "id": "5WLYiWGRoA3c"
      },
      "outputs": [],
      "source": [
        "import re\n",
        "re.sub(r\"\\w+\", r\"word\", \"HI! I'm Cheffie!\")  # replace every word by \"word\""
      ]
    },
    {
      "cell_type": "markdown",
      "metadata": {
        "id": "UkTw8htFoA3c"
      },
      "source": [
        "For practicing regular expressions on your own, try [pythex](https://pythex.org/)."
      ]
    },
    {
      "cell_type": "markdown",
      "metadata": {
        "id": "Vey8KKrkoA3c"
      },
      "source": [
        "### Summary\n",
        "\n",
        "```python\n",
        "re.findall(regex, some_string)  # return list of matching substrings\n",
        "re.sub(regex1, regex2, some_string)  # replace all matches of regex1 by regex2\n",
        "```\n",
        "\n",
        "- All regex patterns are strings prefixed by `r`.\n",
        "- Syntax for regex matching:\n",
        "    - `a` matches character `a`\n",
        "    - `[abc]` matches every character that is `a`, `b`, or `c`\n",
        "    - `+` matches one or more instances of the preceding regex\n",
        "- Special regex abbreviations:\n",
        "    - `\\w` match a word character (letter of alphabet, digit)\n",
        "    - `\\d` match a digit (0-9)\n",
        "    - `\\s` match a white space character (space, tab)\n",
        "    - `\\W` match a character that is **not** a word character\n",
        "    - `\\D` match a character that is **not** a digit\n",
        "    - `\\S` match a character that is **not** a whitespace character"
      ]
    },
    {
      "cell_type": "markdown",
      "metadata": {
        "id": "omgWtAXjoA3c"
      },
      "source": [
        "### Common mistakes\n",
        "\n",
        "- Don't forget about the `r` before the regex-string.\n",
        "- When defining alternatives, don't use commas.\n",
        "  You have to use `[abc]`, not `[a,b,c]`.\n",
        "- `\\w` and `\\d` are not mutually exclusive.\n",
        "  Whatever matches `\\d` also matches `\\w` because the latter matches both letters and digits."
      ]
    },
    {
      "cell_type": "markdown",
      "metadata": {
        "id": "z4XaO7d7oA3d"
      },
      "source": [
        "## Comprehensions\n",
        "\n",
        "Comprehensions allow you to build up container-like objects like sets and lists without the use of a separate `for`-loop.\n",
        "The most common type is list comprehensions, but set comprehensions work almost exactly the same"
      ]
    },
    {
      "cell_type": "code",
      "execution_count": null,
      "metadata": {
        "id": "iNJAwOoooA3d"
      },
      "outputs": [],
      "source": [
        "# doubling all items in a list, long way\n",
        "number_list = [1, 3, 17, 91]\n",
        "doubled = []\n",
        "for n in number_list:\n",
        "    doubled.append(2 * n)\n",
        "print(doubled)"
      ]
    },
    {
      "cell_type": "code",
      "execution_count": null,
      "metadata": {
        "collapsed": true,
        "id": "xd-Jj1JBoA3d"
      },
      "outputs": [],
      "source": [
        "# doubling all items in a list, with comprehension\n",
        "number_list = [1, 3, 17, 91]\n",
        "doubled = [2 * n for n in number_list]  # list comprehension uses [ and ]\n",
        "print(doubled)"
      ]
    },
    {
      "cell_type": "code",
      "execution_count": null,
      "metadata": {
        "id": "9QlfneTWoA3d"
      },
      "outputs": [],
      "source": [
        "# only add number and double it if n > 10\n",
        "number_list = [1, 3, 17, 91]\n",
        "doubled = [2 * n for n in number_list if n > 10]\n",
        "print(doubled)"
      ]
    },
    {
      "cell_type": "code",
      "execution_count": null,
      "metadata": {
        "id": "PmjYlit7oA3d"
      },
      "outputs": [],
      "source": [
        "# a set comprehension\n",
        "number_list = [1, 3, 17, 91, 17, 3, 1]\n",
        "doubled = {2 * n for n in number_list}  # set comprehension uses { and }\n",
        "print(doubled)"
      ]
    },
    {
      "cell_type": "code",
      "execution_count": null,
      "metadata": {
        "id": "wYFSo9AooA3d"
      },
      "outputs": [],
      "source": [
        "# a more complex list comprehension\n",
        "words = [\"C\", \"Python\", \"LaTeX\", \"awk\"]\n",
        "multipliers = [1, 2, 3]\n",
        "copies = [w.lower() * m for w in words for m in multipliers]\n",
        "print(copies)"
      ]
    },
    {
      "cell_type": "code",
      "execution_count": null,
      "metadata": {
        "id": "7Noj2-O8oA3e"
      },
      "outputs": [],
      "source": [
        "# the previous exapmle without using comprehension\n",
        "words = [\"C\", \"Python\", \"LaTeX\", \"awk\"]\n",
        "multipliers = [1, 2, 3]\n",
        "copies = []\n",
        "for w in words:\n",
        "    for m in multipliers:\n",
        "        copies.append(w.lower() * m)\n",
        "print(copies)"
      ]
    },
    {
      "cell_type": "markdown",
      "metadata": {
        "id": "NKXHLhADoA3e"
      },
      "source": [
        "Comprehensions are not only more convenient than standard `for`-loops, but also **faster**.\n",
        "But they cannot do everything."
      ]
    },
    {
      "cell_type": "code",
      "execution_count": null,
      "metadata": {
        "id": "Rw5BNGNjoA3e"
      },
      "outputs": [],
      "source": [
        "# there are no string comprehensions\n",
        "abc = \"\"\n",
        "for m in [1, 2, 3]:\n",
        "    for char in [\"a\", \"b\", \"c\"]:\n",
        "        abc = abc + char * m\n",
        "print(abc)"
      ]
    },
    {
      "cell_type": "code",
      "execution_count": null,
      "metadata": {
        "id": "d3iDYjBzoA3e"
      },
      "outputs": [],
      "source": [
        "# some lists cannot be built with comprehensions\n",
        "memory = [1, 2]\n",
        "for n in [3, 4, 5, 6, 7, 8]:\n",
        "    if n == memory[-1] + memory[-2]:\n",
        "        memory.append(n)\n",
        "print(memory)"
      ]
    },
    {
      "cell_type": "markdown",
      "metadata": {
        "id": "diaWCs6ooA3e"
      },
      "source": [
        "### Summary\n",
        "\n",
        "```python\n",
        "# list comprehension\n",
        "[some_func(var) for var in some_container if some_condition]\n",
        "# set comprehension\n",
        "{some_func(var) for var in some_container if some_condition}\n",
        "```"
      ]
    },
    {
      "cell_type": "markdown",
      "metadata": {
        "id": "ohFmqptioA3e"
      },
      "source": [
        "### Common mistakes\n",
        "\n",
        "- Don't underuse comprehensions.\n",
        "  They can make your code a lot more readable and faster.\n",
        "  Whenver you want to define an empty list and add elements to it with a `for`-loop, ask yourself if a comprehension would do instead.\n",
        "- Don't overuse comprehensions.\n",
        "  Nested comprehensions are allowed, but can be hard to figure out."
      ]
    },
    {
      "cell_type": "markdown",
      "metadata": {
        "id": "TCF9v8_0oA3e"
      },
      "source": [
        "## Miscellaneous"
      ]
    },
    {
      "cell_type": "markdown",
      "metadata": {
        "id": "-Wg78aZxoA3e"
      },
      "source": [
        "### Basic mathematics"
      ]
    },
    {
      "cell_type": "code",
      "execution_count": null,
      "metadata": {
        "id": "yHvupE6QoA3e"
      },
      "outputs": [],
      "source": [
        "# addition\n",
        "print(5 + 3)     # produces an integer\n",
        "print(5.0 + 3)   # produces a float (= decimal number)\n",
        "print(5 + 3.0)   # also produces a float"
      ]
    },
    {
      "cell_type": "code",
      "execution_count": null,
      "metadata": {
        "id": "BfYNG2IooA3e"
      },
      "outputs": [],
      "source": [
        "# subtraction\n",
        "print(5 - 3)\n",
        "print(5.0 - 3)\n",
        "print(5 - 3.0)"
      ]
    },
    {
      "cell_type": "code",
      "execution_count": null,
      "metadata": {
        "id": "n_GrTkTNoA3e"
      },
      "outputs": [],
      "source": [
        "# multiplication\n",
        "print(5 * 3)\n",
        "print(5.0 * 3)\n",
        "print(5 * 3.0)"
      ]
    },
    {
      "cell_type": "code",
      "execution_count": null,
      "metadata": {
        "id": "6UcUnZFpoA3f"
      },
      "outputs": [],
      "source": [
        "# exponentation\n",
        "print(5 ** 3)\n",
        "print(5.0 ** 3)\n",
        "print(5 ** 3.0)"
      ]
    },
    {
      "cell_type": "code",
      "execution_count": null,
      "metadata": {
        "id": "jHQlRgKOoA3f"
      },
      "outputs": [],
      "source": [
        "# division\n",
        "print(5 / 3)    # produces a float, not an integer!\n",
        "print(5.0 / 3)  # produces a float, as expected\n",
        "print(5 / 3.0)  # produces a float, also as expected"
      ]
    },
    {
      "cell_type": "code",
      "execution_count": null,
      "metadata": {
        "id": "PZ_pXPfcoA3f"
      },
      "outputs": [],
      "source": [
        "print(int(5 / 3))  # this converts the float to an integer\n",
        "                   # -> cuts off all the decimals"
      ]
    },
    {
      "cell_type": "markdown",
      "metadata": {
        "id": "j9pmCaffoA3f"
      },
      "source": [
        "### Augmented assignments\n",
        "\n",
        "When changing the value of a variable, use augmented assignments if possible.\n",
        "They are faster and more convenient."
      ]
    },
    {
      "cell_type": "code",
      "execution_count": null,
      "metadata": {
        "collapsed": true,
        "id": "doChxjzdoA3f"
      },
      "outputs": [],
      "source": [
        "# clunky\n",
        "some_var = \"hi\"\n",
        "some_var = some_var + \" there\"\n",
        "print(some_var)"
      ]
    },
    {
      "cell_type": "code",
      "execution_count": null,
      "metadata": {
        "id": "89K0JaxBoA3f"
      },
      "outputs": [],
      "source": [
        "# augmented assignment\n",
        "some_var = \"hi\"\n",
        "some_var += \" there\"\n",
        "print(some_var)"
      ]
    },
    {
      "cell_type": "code",
      "execution_count": null,
      "metadata": {
        "collapsed": true,
        "id": "LXkjgMiMoA3f"
      },
      "outputs": [],
      "source": [
        "# clunky\n",
        "some_var = \"ma\"\n",
        "some_var = some_var * 2\n",
        "print(some_var)"
      ]
    },
    {
      "cell_type": "code",
      "execution_count": null,
      "metadata": {
        "id": "ah8sq4ltoA3f"
      },
      "outputs": [],
      "source": [
        "# augmented assignment\n",
        "some_var = \"ma\"\n",
        "some_var *= 2\n",
        "print(some_var)"
      ]
    },
    {
      "cell_type": "code",
      "execution_count": null,
      "metadata": {
        "collapsed": true,
        "id": "3vj2OOHpoA3g"
      },
      "outputs": [],
      "source": [
        "# clunky\n",
        "some_var = 0\n",
        "some_var = some_var + 1\n",
        "print(some_var)"
      ]
    },
    {
      "cell_type": "code",
      "execution_count": null,
      "metadata": {
        "id": "OTtABrzyoA3g"
      },
      "outputs": [],
      "source": [
        "# augmented assignment\n",
        "some_var = 0\n",
        "some_var += 1\n",
        "print(some_var)"
      ]
    },
    {
      "cell_type": "code",
      "execution_count": null,
      "metadata": {
        "collapsed": true,
        "id": "jRVXdcNeoA3g"
      },
      "outputs": [],
      "source": [
        "# clunky\n",
        "some_var = 2\n",
        "some_var = some_var * 3\n",
        "print(some_var)"
      ]
    },
    {
      "cell_type": "code",
      "execution_count": null,
      "metadata": {
        "id": "AtDLIAgVoA3g"
      },
      "outputs": [],
      "source": [
        "# augmented assignment\n",
        "some_var = 2\n",
        "some_var *= 3\n",
        "print(some_var)"
      ]
    },
    {
      "cell_type": "markdown",
      "metadata": {
        "id": "kUrAQiEZoA3h"
      },
      "source": [
        "```python\n",
        "# some augmented assignments\n",
        "some_var += n   # addition/concatenation\n",
        "some_var *= n   # multiplication/string copying\n",
        "some_var -= n   # subtraction/does not work with strings\n",
        "some_var /= n   # division/does not work with strings\n",
        "some_var **= n  # exponentation/does not work with strings\n",
        "```"
      ]
    },
    {
      "cell_type": "markdown",
      "metadata": {
        "id": "EWNjKQeioA3h"
      },
      "source": [
        "### Type annotations for functions\n",
        "\n",
        "In Python, each object has a **type** associated with it.\n",
        "\n",
        "**Object** | **Type**\n",
        "-:         | :-\n",
        "string     | `str`\n",
        "list       | `list'\n",
        "set        | `set`\n",
        "Counter    | `collections.Counter`\n",
        "integer    | `int`\n",
        "decimal numbers | `float`"
      ]
    },
    {
      "cell_type": "code",
      "execution_count": null,
      "metadata": {
        "id": "3I46umfroA3h"
      },
      "outputs": [],
      "source": [
        "type(\"hi\")"
      ]
    },
    {
      "cell_type": "code",
      "execution_count": null,
      "metadata": {
        "id": "YiOePtnJoA3h"
      },
      "outputs": [],
      "source": [
        "type([\"some\", \"list\", 2, 3, [\"with some stuff\", \"in it\"]])"
      ]
    },
    {
      "cell_type": "code",
      "execution_count": null,
      "metadata": {
        "id": "VhPbHqxcoA3h"
      },
      "outputs": [],
      "source": [
        "type({\"a\", \"set\"})"
      ]
    },
    {
      "cell_type": "code",
      "execution_count": null,
      "metadata": {
        "id": "bs5eWDOeoA3h"
      },
      "outputs": [],
      "source": [
        "from collections import Counter\n",
        "type(Counter([\"a\", \"counter\", \"from\", \"a\", \"list\"]))"
      ]
    },
    {
      "cell_type": "code",
      "execution_count": null,
      "metadata": {
        "id": "cVMGjpPPoA3i"
      },
      "outputs": [],
      "source": [
        "type(3)"
      ]
    },
    {
      "cell_type": "code",
      "execution_count": null,
      "metadata": {
        "id": "Jb8VWI79oA3i"
      },
      "outputs": [],
      "source": [
        "type(3.0)"
      ]
    },
    {
      "cell_type": "markdown",
      "metadata": {
        "id": "-kbY0I71oA3i"
      },
      "source": [
        "Sometimes it can be useful to add type information to a function to avoid ambiguities"
      ]
    },
    {
      "cell_type": "code",
      "execution_count": null,
      "metadata": {
        "id": "DaLEmZspoA3i"
      },
      "outputs": [],
      "source": [
        "# Is the function below meant for numbers or strings?\n",
        "# It works with both...\n",
        "def mystery_function(a, b):\n",
        "    return a + b * 2\n",
        "\n",
        "\n",
        "print(mystery_function(5, 3))\n",
        "print(mystery_function(\"ba\", \"na\"))"
      ]
    },
    {
      "cell_type": "code",
      "execution_count": null,
      "metadata": {
        "id": "yklHOJeioA3i"
      },
      "outputs": [],
      "source": [
        "# Oh, I see:\n",
        "# a is a string, and\n",
        "# b is a string, and\n",
        "# the function outputs a string.\n",
        "def mystery_function(a: str, b: str) -> str:\n",
        "    return a + b * 2\n",
        "\n",
        "\n",
        "# but this information is just for us,\n",
        "# Python still allows any arbitrary argument\n",
        "print(mystery_function(5, 3))\n",
        "print(mystery_function(\"ba\", \"na\"))"
      ]
    },
    {
      "cell_type": "markdown",
      "metadata": {
        "id": "nj8SvuDXoA3i"
      },
      "source": [
        "Type annotation is not essential for normal usage, but in combination with other tools like *pytest* it can help avoid some bugs.\n",
        "Still, most Python programmers don't use type annotations and instead describe the types in the function's docstring if necessary.\n",
        "In this course, however, we will sometimes use type annotations where they increase clarity."
      ]
    }
  ],
  "metadata": {
    "kernelspec": {
      "display_name": "Python 3",
      "language": "python",
      "name": "python3"
    },
    "language_info": {
      "codemirror_mode": {
        "name": "ipython",
        "version": 3
      },
      "file_extension": ".py",
      "mimetype": "text/x-python",
      "name": "python",
      "nbconvert_exporter": "python",
      "pygments_lexer": "ipython3",
      "version": "3.5.3"
    },
    "colab": {
      "provenance": []
    }
  },
  "nbformat": 4,
  "nbformat_minor": 0
}